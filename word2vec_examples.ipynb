{
 "cells": [
  {
   "cell_type": "markdown",
   "metadata": {
    "id": "FlHVOwXZIV9O"
   },
   "source": [
    "# Introduction"
   ]
  },
  {
   "cell_type": "code",
   "execution_count": 2,
   "metadata": {
    "id": "tZFYPWAr-boQ"
   },
   "outputs": [],
   "source": [
    "# word2vec with gensim \n",
    "from gensim.models import word2vec"
   ]
  },
  {
   "cell_type": "code",
   "execution_count": 37,
   "metadata": {
    "id": "6PJT1iSL-fN5"
   },
   "outputs": [],
   "source": [
    "model = word2vec.Word2Vec.load('word2vec/w2v_1760_1900/w2v_words.model')"
   ]
  },
  {
   "cell_type": "code",
   "execution_count": 38,
   "metadata": {
    "colab": {
     "base_uri": "https://localhost:8080/"
    },
    "id": "6ctKo4esCjaF",
    "outputId": "e83cbcc0-1b69-488d-f619-b2e0880c5cd1"
   },
   "outputs": [
    {
     "data": {
      "text/plain": [
       "array([ 1.71968445e-01,  2.70484746e-01, -1.84552312e-01,  5.00591397e-01,\n",
       "        1.52515754e-01, -3.04825813e-01,  3.41397136e-01,  8.93739238e-02,\n",
       "        2.15603769e-01, -5.89485288e-01,  3.80043089e-01,  3.20834965e-01,\n",
       "       -4.16698493e-02,  2.91256189e-01, -6.85506687e-03, -2.66951948e-01,\n",
       "        1.46018133e-01, -2.68793672e-01, -1.89494625e-01,  2.62099326e-01,\n",
       "       -4.62571204e-01, -8.92755166e-02,  1.57749817e-01,  4.91030663e-01,\n",
       "        2.02094316e-01,  1.10610612e-01, -5.17635271e-02,  1.07864335e-01,\n",
       "       -1.10338539e-01, -8.71941000e-02,  8.39515030e-03,  5.07728994e-01,\n",
       "        1.42195327e-02,  2.91566312e-01,  2.94971198e-01, -4.17190313e-01,\n",
       "        1.42062679e-01, -7.54840448e-02, -1.00778729e-01, -2.35880628e-01,\n",
       "       -1.30309597e-01, -6.77567720e-01,  4.00120281e-02, -2.16521487e-01,\n",
       "       -1.40804043e-02, -1.97626427e-01, -1.58942789e-01, -7.01520145e-02,\n",
       "        8.68177190e-02,  3.22213233e-01, -2.10217535e-01, -4.64077890e-01,\n",
       "        2.60877341e-01,  7.56415278e-02,  3.26786451e-02, -5.18320911e-02,\n",
       "        4.32608686e-02, -1.72049046e-01, -2.06630766e-01, -2.87914813e-01,\n",
       "        2.76506543e-01, -3.48291011e-03, -1.33490384e-01,  1.27607503e-03,\n",
       "        2.11256623e-01,  6.31664455e-01,  2.93430328e-01, -2.16858760e-02,\n",
       "       -1.03457436e-01,  2.35846281e-01,  3.20038348e-01, -1.56822708e-03,\n",
       "        2.58816123e-01,  5.04493006e-02, -4.20568101e-02, -7.08009601e-02,\n",
       "        3.60157698e-01,  1.50734946e-01,  1.19541526e-01,  3.18116188e-01,\n",
       "        7.89728463e-02, -1.80524111e-01, -6.56872930e-04,  1.23059070e-02,\n",
       "        2.20455363e-01, -8.11076462e-02, -1.88079968e-01, -1.44956037e-01,\n",
       "        5.74580953e-03, -1.73424214e-01,  3.02038074e-01, -8.37982222e-02,\n",
       "        6.95864409e-02, -2.14928702e-01,  1.34928852e-01, -4.42426987e-02,\n",
       "       -4.00128812e-01,  7.64709264e-02,  2.75609568e-02, -1.40775859e-01,\n",
       "        3.92019749e-02, -4.17823076e-01, -1.33288074e-02, -2.52178878e-01,\n",
       "        2.14081630e-01,  6.34412244e-02, -1.58140898e-01,  1.84820950e-01,\n",
       "       -1.51223421e-01,  8.95903334e-02,  2.01553330e-01, -7.53866881e-02,\n",
       "        1.78542628e-03, -3.26222003e-01, -2.14423776e-01, -6.14129007e-02,\n",
       "       -2.71366328e-01, -6.62008598e-02,  1.56455457e-01, -1.45445392e-01,\n",
       "        3.23260874e-01,  1.35776699e-01, -1.52242228e-01, -1.01122789e-01,\n",
       "       -1.05301134e-01,  1.15369573e-01, -2.91769803e-01,  2.88853347e-02,\n",
       "        6.10921271e-02, -9.95264202e-03, -2.32825615e-02, -1.31162956e-01,\n",
       "        3.16892773e-01,  5.68217151e-02,  1.23699114e-01,  8.74880403e-02,\n",
       "        7.95588046e-02,  2.91684806e-01, -7.20647499e-02,  9.23814103e-02,\n",
       "        2.30065867e-01, -9.33407769e-02, -2.89738476e-01,  9.40955579e-02,\n",
       "        7.35092461e-02,  1.03160001e-01,  3.02746799e-02,  4.67745572e-01,\n",
       "        2.83095062e-01,  1.37477234e-01, -3.88776273e-01, -2.71283556e-02,\n",
       "       -1.30451009e-01, -1.52742624e-01,  1.25073388e-01,  6.41928762e-02,\n",
       "        1.08226739e-01,  1.17971048e-01,  3.88798565e-01, -5.39389364e-02,\n",
       "       -4.44287993e-03,  9.54933651e-03, -5.30460894e-01,  6.52044192e-02,\n",
       "        8.27854872e-02,  6.96107373e-02, -1.68024793e-01, -5.75273745e-02,\n",
       "        9.08593610e-02,  1.65936679e-01,  1.47345811e-01,  2.71711409e-01,\n",
       "       -2.90841013e-01, -5.94067760e-02,  4.42858398e-01,  2.08605267e-02,\n",
       "        1.60395224e-02, -5.99798486e-02, -3.10931772e-01, -1.70740783e-01,\n",
       "       -4.89323623e-02, -2.12528497e-01, -5.01095057e-02,  1.42718062e-01,\n",
       "        1.24877430e-01, -1.77772552e-01,  1.18721509e-02,  1.10998519e-01,\n",
       "       -2.69368291e-01, -2.83441484e-01,  2.40104914e-01, -2.68717438e-01,\n",
       "       -1.99727178e-01, -1.06155634e-01,  2.36557908e-02,  4.78488840e-02,\n",
       "       -1.81678124e-02,  7.31859496e-03, -8.69084671e-02,  5.69453478e-01,\n",
       "        2.93477029e-01, -6.72769025e-02, -9.95322596e-03,  2.31804937e-01,\n",
       "        5.22175580e-02,  3.01791817e-01, -3.54616195e-01, -3.43986973e-02,\n",
       "       -2.12267697e-01,  1.22126434e-02,  7.55390525e-02,  1.23680435e-01,\n",
       "       -3.34887922e-01, -2.59255525e-02,  1.90578312e-01, -2.59525985e-01,\n",
       "        1.68393198e-02, -1.50721401e-01,  4.29182686e-02,  1.74330175e-01,\n",
       "        2.53139794e-01,  1.16879053e-01,  2.29367852e-01,  1.83724016e-02,\n",
       "        1.57099947e-01, -6.23459108e-02,  4.08807963e-01,  2.41060421e-01,\n",
       "       -1.03784084e-01, -2.68184338e-02, -9.36767086e-02, -8.01066682e-02,\n",
       "       -3.64315398e-02, -6.62857741e-02,  1.18488729e-01,  1.51875243e-01,\n",
       "        3.55327278e-01,  7.57088000e-03, -7.92338140e-03, -1.28190741e-01,\n",
       "        2.50505120e-01, -3.80997956e-02, -5.02227098e-02, -2.73587972e-01,\n",
       "        2.35487908e-01, -2.17554852e-01,  2.83011228e-01,  1.73329234e-01,\n",
       "        2.03985766e-01,  3.17751914e-01, -3.45597982e-01,  1.05236351e-01,\n",
       "       -2.11557895e-02,  1.49670094e-02, -2.40705952e-01, -8.00870955e-02,\n",
       "        4.23646607e-02,  7.76999220e-02,  2.26471215e-01,  2.13626429e-01,\n",
       "       -5.38383275e-02, -1.42980620e-01, -1.90360341e-02,  1.39829069e-01,\n",
       "       -1.65834337e-01, -2.66399026e-01, -4.69024964e-02,  1.06998324e-01,\n",
       "       -2.41464421e-01,  4.11963165e-01, -4.63674702e-02, -1.07255511e-01,\n",
       "        3.97552699e-01, -1.40123203e-01,  1.63778663e-02, -3.49733345e-02,\n",
       "        2.15960783e-03,  2.47373998e-01, -2.18009442e-01,  1.06474563e-01,\n",
       "        1.66570574e-01, -1.67912841e-01,  2.98921853e-01,  1.18382871e-01,\n",
       "        1.45554945e-01,  1.93532512e-01,  2.43932158e-02,  3.53665687e-02,\n",
       "        8.52411911e-02, -2.45564759e-01,  2.23201923e-02, -5.47243804e-02,\n",
       "       -2.18330681e-01, -2.99257427e-01,  2.34604627e-01, -6.13763370e-02,\n",
       "        1.90802768e-01,  5.59342384e-01,  9.04297903e-02,  3.98156382e-02],\n",
       "      dtype=float32)"
      ]
     },
     "execution_count": 38,
     "metadata": {},
     "output_type": "execute_result"
    }
   ],
   "source": [
    "# word embedding operates as a dictionary \n",
    "# mapping word types to vectors\n",
    "model.wv['machine']"
   ]
  },
  {
   "cell_type": "code",
   "execution_count": 73,
   "metadata": {},
   "outputs": [
    {
     "data": {
      "text/plain": [
       "(300,)"
      ]
     },
     "execution_count": 73,
     "metadata": {},
     "output_type": "execute_result"
    }
   ],
   "source": [
    "model.wv['machine'].shape"
   ]
  },
  {
   "cell_type": "code",
   "execution_count": 39,
   "metadata": {
    "colab": {
     "base_uri": "https://localhost:8080/"
    },
    "id": "okzXMOmfCZUs",
    "outputId": "dfa39592-b004-4058-f119-0f3641a955f3"
   },
   "outputs": [
    {
     "data": {
      "text/plain": [
       "[('machines', 0.7792686820030212),\n",
       " ('machinery', 0.7629484534263611),\n",
       " ('engine', 0.727625846862793),\n",
       " ('steam-engine', 0.7088614702224731),\n",
       " ('engines', 0.6519815921783447)]"
      ]
     },
     "execution_count": 39,
     "metadata": {},
     "output_type": "execute_result"
    }
   ],
   "source": [
    "# closest neighbours are semantically related\n",
    "# capture semantics of the 19th century\n",
    "model.wv.most_similar('machine',topn=5)"
   ]
  },
  {
   "cell_type": "code",
   "execution_count": 40,
   "metadata": {
    "colab": {
     "base_uri": "https://localhost:8080/"
    },
    "id": "LBsQ3bkTC3_U",
    "outputId": "64df0d46-16ae-4594-c986-e6d8f1ede83b"
   },
   "outputs": [
    {
     "data": {
      "text/plain": [
       "[('cat', 0.687270998954773),\n",
       " ('rat', 0.6613649129867554),\n",
       " ('kitten', 0.6363716125488281),\n",
       " ('weasel', 0.6303430199623108),\n",
       " ('rabbit', 0.6288489699363708)]"
      ]
     },
     "execution_count": 40,
     "metadata": {},
     "output_type": "execute_result"
    }
   ],
   "source": [
    "# mouse only the animale\n",
    "model.wv.most_similar('mouse',topn=5)"
   ]
  },
  {
   "cell_type": "code",
   "execution_count": 41,
   "metadata": {
    "colab": {
     "base_uri": "https://localhost:8080/",
     "height": 321
    },
    "id": "aYx0--jzC_Ru",
    "outputId": "0dec2138-0512-4414-ef56-56ff2242f7ff"
   },
   "outputs": [
    {
     "ename": "KeyError",
     "evalue": "\"word 'obama' not in vocabulary\"",
     "output_type": "error",
     "traceback": [
      "\u001b[0;31m---------------------------------------------------------------------------\u001b[0m",
      "\u001b[0;31mKeyError\u001b[0m                                  Traceback (most recent call last)",
      "\u001b[0;32m<ipython-input-41-462640765cd1>\u001b[0m in \u001b[0;36m<module>\u001b[0;34m\u001b[0m\n\u001b[1;32m      1\u001b[0m \u001b[0;31m# no computers in victorian times\u001b[0m\u001b[0;34m\u001b[0m\u001b[0;34m\u001b[0m\u001b[0;34m\u001b[0m\u001b[0m\n\u001b[0;32m----> 2\u001b[0;31m \u001b[0mmodel\u001b[0m\u001b[0;34m.\u001b[0m\u001b[0mwv\u001b[0m\u001b[0;34m.\u001b[0m\u001b[0mmost_similar\u001b[0m\u001b[0;34m(\u001b[0m\u001b[0;34m'obama'\u001b[0m\u001b[0;34m,\u001b[0m\u001b[0mtopn\u001b[0m\u001b[0;34m=\u001b[0m\u001b[0;36m5\u001b[0m\u001b[0;34m)\u001b[0m\u001b[0;34m\u001b[0m\u001b[0;34m\u001b[0m\u001b[0m\n\u001b[0m",
      "\u001b[0;32m/usr/local/lib/python3.7/site-packages/gensim/models/keyedvectors.py\u001b[0m in \u001b[0;36mmost_similar\u001b[0;34m(self, positive, negative, topn, restrict_vocab, indexer)\u001b[0m\n\u001b[1;32m    551\u001b[0m                 \u001b[0mmean\u001b[0m\u001b[0;34m.\u001b[0m\u001b[0mappend\u001b[0m\u001b[0;34m(\u001b[0m\u001b[0mweight\u001b[0m \u001b[0;34m*\u001b[0m \u001b[0mword\u001b[0m\u001b[0;34m)\u001b[0m\u001b[0;34m\u001b[0m\u001b[0;34m\u001b[0m\u001b[0m\n\u001b[1;32m    552\u001b[0m             \u001b[0;32melse\u001b[0m\u001b[0;34m:\u001b[0m\u001b[0;34m\u001b[0m\u001b[0;34m\u001b[0m\u001b[0m\n\u001b[0;32m--> 553\u001b[0;31m                 \u001b[0mmean\u001b[0m\u001b[0;34m.\u001b[0m\u001b[0mappend\u001b[0m\u001b[0;34m(\u001b[0m\u001b[0mweight\u001b[0m \u001b[0;34m*\u001b[0m \u001b[0mself\u001b[0m\u001b[0;34m.\u001b[0m\u001b[0mword_vec\u001b[0m\u001b[0;34m(\u001b[0m\u001b[0mword\u001b[0m\u001b[0;34m,\u001b[0m \u001b[0muse_norm\u001b[0m\u001b[0;34m=\u001b[0m\u001b[0;32mTrue\u001b[0m\u001b[0;34m)\u001b[0m\u001b[0;34m)\u001b[0m\u001b[0;34m\u001b[0m\u001b[0;34m\u001b[0m\u001b[0m\n\u001b[0m\u001b[1;32m    554\u001b[0m                 \u001b[0;32mif\u001b[0m \u001b[0mword\u001b[0m \u001b[0;32min\u001b[0m \u001b[0mself\u001b[0m\u001b[0;34m.\u001b[0m\u001b[0mvocab\u001b[0m\u001b[0;34m:\u001b[0m\u001b[0;34m\u001b[0m\u001b[0;34m\u001b[0m\u001b[0m\n\u001b[1;32m    555\u001b[0m                     \u001b[0mall_words\u001b[0m\u001b[0;34m.\u001b[0m\u001b[0madd\u001b[0m\u001b[0;34m(\u001b[0m\u001b[0mself\u001b[0m\u001b[0;34m.\u001b[0m\u001b[0mvocab\u001b[0m\u001b[0;34m[\u001b[0m\u001b[0mword\u001b[0m\u001b[0;34m]\u001b[0m\u001b[0;34m.\u001b[0m\u001b[0mindex\u001b[0m\u001b[0;34m)\u001b[0m\u001b[0;34m\u001b[0m\u001b[0;34m\u001b[0m\u001b[0m\n",
      "\u001b[0;32m/usr/local/lib/python3.7/site-packages/gensim/models/keyedvectors.py\u001b[0m in \u001b[0;36mword_vec\u001b[0;34m(self, word, use_norm)\u001b[0m\n\u001b[1;32m    466\u001b[0m             \u001b[0;32mreturn\u001b[0m \u001b[0mresult\u001b[0m\u001b[0;34m\u001b[0m\u001b[0;34m\u001b[0m\u001b[0m\n\u001b[1;32m    467\u001b[0m         \u001b[0;32melse\u001b[0m\u001b[0;34m:\u001b[0m\u001b[0;34m\u001b[0m\u001b[0;34m\u001b[0m\u001b[0m\n\u001b[0;32m--> 468\u001b[0;31m             \u001b[0;32mraise\u001b[0m \u001b[0mKeyError\u001b[0m\u001b[0;34m(\u001b[0m\u001b[0;34m\"word '%s' not in vocabulary\"\u001b[0m \u001b[0;34m%\u001b[0m \u001b[0mword\u001b[0m\u001b[0;34m)\u001b[0m\u001b[0;34m\u001b[0m\u001b[0;34m\u001b[0m\u001b[0m\n\u001b[0m\u001b[1;32m    469\u001b[0m \u001b[0;34m\u001b[0m\u001b[0m\n\u001b[1;32m    470\u001b[0m     \u001b[0;32mdef\u001b[0m \u001b[0mget_vector\u001b[0m\u001b[0;34m(\u001b[0m\u001b[0mself\u001b[0m\u001b[0;34m,\u001b[0m \u001b[0mword\u001b[0m\u001b[0;34m)\u001b[0m\u001b[0;34m:\u001b[0m\u001b[0;34m\u001b[0m\u001b[0;34m\u001b[0m\u001b[0m\n",
      "\u001b[0;31mKeyError\u001b[0m: \"word 'obama' not in vocabulary\""
     ]
    }
   ],
   "source": [
    "# no computers in victorian times\n",
    "model.wv.most_similar('obama',topn=5)"
   ]
  },
  {
   "cell_type": "code",
   "execution_count": 42,
   "metadata": {
    "colab": {
     "base_uri": "https://localhost:8080/"
    },
    "id": "qt9etHtcDwdJ",
    "outputId": "3d9aa5b4-1286-4b3d-f205-308245debb55"
   },
   "outputs": [
    {
     "data": {
      "text/plain": [
       "[('o-ood', 0.7202963829040527),\n",
       " ('bad', 0.6890184879302979),\n",
       " ('-good', 0.6854113936424255),\n",
       " ('gooel', 0.6735956072807312),\n",
       " ('gcod', 0.6525894403457642)]"
      ]
     },
     "execution_count": 42,
     "metadata": {},
     "output_type": "execute_result"
    }
   ],
   "source": [
    "# neighbours aren't synomyms\n",
    "model.wv.most_similar('good',topn=5)"
   ]
  },
  {
   "cell_type": "code",
   "execution_count": 70,
   "metadata": {
    "colab": {
     "base_uri": "https://localhost:8080/"
    },
    "id": "05ZaP7twDNyK",
    "outputId": "3f032e1c-539a-474a-857f-e318fa1e4b91"
   },
   "outputs": [
    {
     "data": {
      "text/plain": [
       "0.56899637"
      ]
     },
     "execution_count": 70,
     "metadata": {},
     "output_type": "execute_result"
    }
   ],
   "source": [
    "# similarity of vectors as proxy for semantic similarity\n",
    "model.wv.similarity('apple','pear')"
   ]
  },
  {
   "cell_type": "code",
   "execution_count": 72,
   "metadata": {},
   "outputs": [
    {
     "data": {
      "text/plain": [
       "0.51745087"
      ]
     },
     "execution_count": 72,
     "metadata": {},
     "output_type": "execute_result"
    }
   ],
   "source": [
    "# similarity of vectors as proxy for semantic similarity\n",
    "model.wv.similarity('copenhagen','brussels')"
   ]
  },
  {
   "cell_type": "code",
   "execution_count": 71,
   "metadata": {
    "colab": {
     "base_uri": "https://localhost:8080/"
    },
    "id": "-iwiIij0DWAI",
    "outputId": "4dc3bc7e-82a1-426d-adde-345b53406720"
   },
   "outputs": [
    {
     "data": {
      "text/plain": [
       "0.26883927"
      ]
     },
     "execution_count": 71,
     "metadata": {},
     "output_type": "execute_result"
    }
   ],
   "source": [
    "model.wv.similarity('apple','cat')"
   ]
  },
  {
   "cell_type": "code",
   "execution_count": 45,
   "metadata": {
    "colab": {
     "base_uri": "https://localhost:8080/"
    },
    "id": "zctRXJSND4hj",
    "outputId": "d76a3855-a134-44ee-d736-ee9c350c10c0"
   },
   "outputs": [
    {
     "data": {
      "text/plain": [
       "[('king', 0.8062673211097717),\n",
       " ('queen', 0.6702409386634827),\n",
       " ('kiug', 0.6366063356399536),\n",
       " ('monarch', 0.6056570410728455),\n",
       " ('princess', 0.60062575340271),\n",
       " ('queeu', 0.5769879817962646),\n",
       " ('empress', 0.5722749829292297),\n",
       " ('kingof', 0.5720665454864502),\n",
       " ('kidg', 0.5620586276054382),\n",
       " ('kino-', 0.5597679615020752)]"
      ]
     },
     "execution_count": 45,
     "metadata": {},
     "output_type": "execute_result"
    }
   ],
   "source": [
    "# gensim makes stuff easier, e.g. analogy\n",
    "# but king - man + woman = king\n",
    "# https://blog.esciencecenter.nl/king-man-woman-king-9a7fd2935a85\n",
    "vector = model.wv['king'] - model.wv['man'] + model.wv['woman']\n",
    "model.wv.similar_by_vector(vector)"
   ]
  },
  {
   "cell_type": "markdown",
   "metadata": {
    "id": "5WsNAC1yIUK6"
   },
   "source": [
    "# Bias "
   ]
  },
  {
   "cell_type": "code",
   "execution_count": 46,
   "metadata": {
    "id": "H5mUNtP-H6q9"
   },
   "outputs": [],
   "source": [
    "%matplotlib inline\n",
    "import seaborn as sns\n",
    "import numpy as np\n",
    "from matplotlib import pyplot as plt\n",
    "sns.set()"
   ]
  },
  {
   "cell_type": "code",
   "execution_count": 47,
   "metadata": {
    "colab": {
     "base_uri": "https://localhost:8080/"
    },
    "id": "qfrA6DjVIF8V",
    "outputId": "a4598c07-35d7-4263-c56a-4f30dd725707"
   },
   "outputs": [
    {
     "data": {
      "text/plain": [
       "[0.3, 0.8500000000000001]"
      ]
     },
     "execution_count": 47,
     "metadata": {},
     "output_type": "execute_result"
    }
   ],
   "source": [
    "v1,v2 = [.5,.9], [.1,.8]\n",
    "average_vector = list(np.mean([v1,v2],axis=0))\n",
    "average_vector"
   ]
  },
  {
   "cell_type": "code",
   "execution_count": 48,
   "metadata": {
    "colab": {
     "base_uri": "https://localhost:8080/",
     "height": 272
    },
    "id": "b5u19cE8__T1",
    "outputId": "accbb9b0-6fa7-4e69-d607-19e26509877b"
   },
   "outputs": [
    {
     "data": {
      "image/png": "[encoded data removed]",
      "text/plain": [
       "<Figure size 432x288 with 1 Axes>"
      ]
     },
     "metadata": {},
     "output_type": "display_data"
    }
   ],
   "source": [
    "# plot the average vector\n",
    "soa = np.array([[0, 0]+v1, [0, 0]+v2,[0, 0]+average_vector])\n",
    "X, Y, U, V = zip(*soa)\n",
    "plt.figure()\n",
    "ax = plt.gca()\n",
    "ax.quiver(X, Y, U, V, angles='xy', scale_units='xy', color=['b','b','r'],scale=1)\n",
    "ax.set_xlim([-.1, 1])\n",
    "ax.set_ylim([-.1, 1])\n",
    "plt.draw()\n",
    "plt.show()"
   ]
  },
  {
   "cell_type": "code",
   "execution_count": 49,
   "metadata": {
    "id": "ZayUEuhuJAOs"
   },
   "outputs": [],
   "source": [
    "# normalize vectors\n",
    "model.init_sims(replace=True)"
   ]
  },
  {
   "cell_type": "code",
   "execution_count": 50,
   "metadata": {
    "id": "EskaI3PVIQQC"
   },
   "outputs": [],
   "source": [
    "female_words = ['woman','women','mother','mothers','girl','girls']\n",
    "male_words = ['man','men','father','fathers','boy','boys']"
   ]
  },
  {
   "cell_type": "code",
   "execution_count": 51,
   "metadata": {
    "id": "VccUPrHtIR8n"
   },
   "outputs": [],
   "source": [
    "V_female = np.mean([model.wv[w] for w in female_words],axis=0)\n",
    "V_male = np.mean([model.wv[w] for w in male_words],axis=0)"
   ]
  },
  {
   "cell_type": "code",
   "execution_count": 67,
   "metadata": {
    "colab": {
     "base_uri": "https://localhost:8080/"
    },
    "id": "bqX0eeUGIwbK",
    "outputId": "8a786a53-08eb-4fea-9b7c-b1ec3c437466"
   },
   "outputs": [
    {
     "name": "stdout",
     "output_type": "stream",
     "text": [
      "distance to V_female 0.7930335\n",
      "distance to V_male 0.848858\n"
     ]
    }
   ],
   "source": [
    "target_word = 'nurse'\n",
    "print('distance to V_female',np.linalg.norm(V_female-model.wv[target_word]))\n",
    "print('distance to V_male',np.linalg.norm(V_male-model.wv[target_word]))"
   ]
  },
  {
   "cell_type": "code",
   "execution_count": 69,
   "metadata": {
    "colab": {
     "base_uri": "https://localhost:8080/"
    },
    "id": "FHcKxpS9IS13",
    "outputId": "1069696b-dd8a-4f50-caec-2fbf8a3cf16b"
   },
   "outputs": [
    {
     "data": {
      "text/plain": [
       "-0.05582452"
      ]
     },
     "execution_count": 69,
     "metadata": {},
     "output_type": "execute_result"
    }
   ],
   "source": [
    "# compute bias\n",
    "f = np.linalg.norm(V_female-model.wv[target_word])\n",
    "m = np.linalg.norm(V_male-model.wv[target_word])\n",
    "# negative scores biased towards women (distance to m > distance to f)\n",
    "# positive scores biased towards men (distance to f > distance to m)\n",
    "f - m"
   ]
  }
 ],
 "metadata": {
  "colab": {
   "name": "word2vec_examples.ipynb",
   "provenance": []
  },
  "kernelspec": {
   "display_name": "Python 3",
   "language": "python",
   "name": "python3"
  },
  "language_info": {
   "codemirror_mode": {
    "name": "ipython",
    "version": 3
   },
   "file_extension": ".py",
   "mimetype": "text/x-python",
   "name": "python",
   "nbconvert_exporter": "python",
   "pygments_lexer": "ipython3",
   "version": "3.7.4"
  }
 },
 "nbformat": 4,
 "nbformat_minor": 1
}
